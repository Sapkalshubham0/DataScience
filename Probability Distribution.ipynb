{
 "cells": [
  {
   "cell_type": "code",
   "execution_count": 1,
   "metadata": {},
   "outputs": [],
   "source": [
    "from scipy.stats import binom\n",
    "import numpy as np\n",
    "import math\n",
    "from scipy.stats import poisson\n",
    "import matplotlib.pyplot as plt\n",
    "from scipy.stats import geom\n",
    "from scipy.stats import nbinom"
   ]
  },
  {
   "cell_type": "code",
   "execution_count": 8,
   "metadata": {},
   "outputs": [
    {
     "data": {
      "text/plain": [
       "0.13690942867206304"
      ]
     },
     "execution_count": 8,
     "metadata": {},
     "output_type": "execute_result"
    }
   ],
   "source": [
    "#inbuilt functions\n",
    "prob=binom.pmf(18,20,0.8) # k = x , n = ? , p = ? \n",
    "prob"
   ]
  },
  {
   "cell_type": "code",
   "execution_count": 10,
   "metadata": {},
   "outputs": [],
   "source": [
    "def binomial_prob(n,p,x): #user defined function\n",
    "    b = (math.factorial(n)/(math.factorial(x)*math.factorial(n-x)))*(p**x)*((1-p)**(n-x))\n",
    "    return b"
   ]
  },
  {
   "cell_type": "code",
   "execution_count": 12,
   "metadata": {},
   "outputs": [
    {
     "data": {
      "text/plain": [
       "0.3125"
      ]
     },
     "execution_count": 12,
     "metadata": {},
     "output_type": "execute_result"
    }
   ],
   "source": [
    "binomial_prob(6,0.5,3)"
   ]
  },
  {
   "cell_type": "code",
   "execution_count": 13,
   "metadata": {},
   "outputs": [
    {
     "name": "stdout",
     "output_type": "stream",
     "text": [
      "0.3125000000000002\n"
     ]
    }
   ],
   "source": [
    "prob=binom.pmf(3,6,0.5) \n",
    "print(prob)"
   ]
  },
  {
   "cell_type": "code",
   "execution_count": 16,
   "metadata": {},
   "outputs": [
    {
     "data": {
      "text/plain": [
       "0.3417249657959586"
      ]
     },
     "execution_count": 16,
     "metadata": {},
     "output_type": "execute_result"
    }
   ],
   "source": [
    "# find probability of having at least 2 defects in a batch of production line. where the probability of getting defect is 0.12.\n",
    "n=10\n",
    "p=0.12\n",
    "#x= 2, 3 , 4 ,5 ......10\n",
    "#using loop for x = x+1 till n\n",
    "sum(binomial_prob(n,p,x) for x in range(2,11))"
   ]
  },
  {
   "cell_type": "code",
   "execution_count": 18,
   "metadata": {},
   "outputs": [],
   "source": [
    "# Poissons distribution\n",
    "def poisson_dist(x,lambd):\n",
    "    return (lambd ** x * np.exp(-lambd))/np.math.factorial(x)\n"
   ]
  },
  {
   "cell_type": "code",
   "execution_count": 20,
   "metadata": {},
   "outputs": [
    {
     "data": {
      "text/plain": [
       "0.16803135574154082"
      ]
     },
     "execution_count": 20,
     "metadata": {},
     "output_type": "execute_result"
    }
   ],
   "source": [
    "x=4\n",
    "lambd=3\n",
    "poisson_dist(x,lambd)"
   ]
  },
  {
   "cell_type": "code",
   "execution_count": 24,
   "metadata": {},
   "outputs": [
    {
     "data": {
      "text/plain": [
       "0.16803135574154085"
      ]
     },
     "execution_count": 24,
     "metadata": {},
     "output_type": "execute_result"
    }
   ],
   "source": [
    "poisson.pmf(4,3)"
   ]
  },
  {
   "cell_type": "code",
   "execution_count": 27,
   "metadata": {},
   "outputs": [],
   "source": [
    "#p=probability of success (defects) in each trial = 1/3\n",
    "#x= number of trials = 5"
   ]
  },
  {
   "cell_type": "code",
   "execution_count": 28,
   "metadata": {},
   "outputs": [
    {
     "data": {
      "text/plain": [
       "0.06584362139917699"
      ]
     },
     "execution_count": 28,
     "metadata": {},
     "output_type": "execute_result"
    }
   ],
   "source": [
    "def geometric_prob(p,x):\n",
    "    q=(1-p)**(x-1)*p\n",
    "    return q\n",
    "\n",
    "p= 1/3\n",
    "x=5\n",
    "q=geometric_prob(p,x)\n",
    "q"
   ]
  },
  {
   "cell_type": "code",
   "execution_count": 29,
   "metadata": {},
   "outputs": [
    {
     "data": {
      "text/plain": [
       "array([ 0,  1,  2,  3,  4,  5,  6,  7,  8,  9, 10, 11, 12, 13, 14, 15, 16,\n",
       "       17, 18, 19, 20, 21, 22, 23, 24])"
      ]
     },
     "execution_count": 29,
     "metadata": {},
     "output_type": "execute_result"
    }
   ],
   "source": [
    "lambd = 2\n",
    "k_axis =np.arange(0,25)\n",
    "k_axis"
   ]
  },
  {
   "cell_type": "code",
   "execution_count": 34,
   "metadata": {},
   "outputs": [
    {
     "data": {
      "text/plain": [
       "(25,)"
      ]
     },
     "execution_count": 34,
     "metadata": {},
     "output_type": "execute_result"
    }
   ],
   "source": [
    "k_axis.shape"
   ]
  },
  {
   "cell_type": "code",
   "execution_count": 35,
   "metadata": {},
   "outputs": [],
   "source": [
    "distribution = np.zeros(k_axis.shape[0])"
   ]
  },
  {
   "cell_type": "code",
   "execution_count": 37,
   "metadata": {},
   "outputs": [],
   "source": [
    "for i in range(k_axis.shape[0]):\n",
    "    distribution[i] = poisson.pmf(i, lambd)\n",
    "    "
   ]
  },
  {
   "cell_type": "code",
   "execution_count": 40,
   "metadata": {},
   "outputs": [
    {
     "data": {
      "text/plain": [
       "<BarContainer object of 25 artists>"
      ]
     },
     "execution_count": 40,
     "metadata": {},
     "output_type": "execute_result"
    },
    {
     "data": {
      "image/png": "[encoded data removed]",
      "text/plain": [
       "<Figure size 432x288 with 1 Axes>"
      ]
     },
     "metadata": {
      "needs_background": "light"
     },
     "output_type": "display_data"
    }
   ],
   "source": [
    "plt.bar(k_axis,distribution)"
   ]
  },
  {
   "cell_type": "code",
   "execution_count": 42,
   "metadata": {},
   "outputs": [
    {
     "data": {
      "image/png": "[encoded data removed]",
      "text/plain": [
       "<Figure size 432x576 with 6 Axes>"
      ]
     },
     "metadata": {
      "needs_background": "light"
     },
     "output_type": "display_data"
    }
   ],
   "source": [
    "#Lambda increase in range 1 , 7\n",
    "fig,axes=plt.subplots(6,figsize=(6,8))\n",
    "for lambd in range(1,7):\n",
    "    k_aixs=np.arange(0,20)\n",
    "    distribution=np.zeros(k_aixs.shape[0])\n",
    "    for i in range(k_aixs.shape[0]):\n",
    "        distribution[i]=poisson.pmf(i,lambd)\n",
    "        \n",
    "    axes[lambd-1].bar(k_aixs,distribution)\n",
    "    axes[lambd-1].set_xticks(np.arange(0,20,2))\n",
    "    axes[lambd-1].set_title(f\"\\lambda*:{lambd}\")\n",
    "    "
   ]
  },
  {
   "cell_type": "code",
   "execution_count": 43,
   "metadata": {},
   "outputs": [
    {
     "name": "stdout",
     "output_type": "stream",
     "text": [
      "0.8683127572016461\n"
     ]
    }
   ],
   "source": [
    "#Geometric Distribution\n",
    "g=0\n",
    "for i in range(1,6):\n",
    "    g +=geometric_prob(p,i)\n",
    "\n",
    "print(g)"
   ]
  },
  {
   "cell_type": "code",
   "execution_count": 48,
   "metadata": {},
   "outputs": [],
   "source": [
    "#geometric distribution\n",
    "\n",
    "p=0.3\n",
    "n=5\n",
    "geom_pd=geom.pmf(n,p)"
   ]
  },
  {
   "cell_type": "code",
   "execution_count": 49,
   "metadata": {},
   "outputs": [
    {
     "name": "stdout",
     "output_type": "stream",
     "text": [
      "0.07202999999999998\n"
     ]
    }
   ],
   "source": [
    "print(geom_pd)"
   ]
  },
  {
   "cell_type": "code",
   "execution_count": 33,
   "metadata": {},
   "outputs": [],
   "source": [
    "nbiom1=nbinom.pmf(3,6,0.5)"
   ]
  },
  {
   "cell_type": "code",
   "execution_count": 34,
   "metadata": {},
   "outputs": [
    {
     "name": "stdout",
     "output_type": "stream",
     "text": [
      "0.10937500000000021\n"
     ]
    }
   ],
   "source": [
    "print(nbiom1)"
   ]
  },
  {
   "cell_type": "markdown",
   "metadata": {},
   "source": [
    "## Negative Distribution Formula "
   ]
  },
  {
   "cell_type": "code",
   "execution_count": 15,
   "metadata": {},
   "outputs": [],
   "source": [
    "#negative distribution formula\n",
    "\n",
    "def negative_bino(r,n,p):\n",
    "    negbn=(math.factorial(n-1)/(math.factorial(r-1)**math.factorial(n-r)))*(p**r)*((1-p)**(n-r))\n",
    "    return negbn"
   ]
  },
  {
   "cell_type": "code",
   "execution_count": 35,
   "metadata": {},
   "outputs": [
    {
     "name": "stdout",
     "output_type": "stream",
     "text": [
      "0.18522\n"
     ]
    }
   ],
   "source": [
    "p=0.7\n",
    "r=3\n",
    "n=5\n",
    "negbn=negative_bino(r,n,p)\n",
    "print(negbn)"
   ]
  },
  {
   "cell_type": "markdown",
   "metadata": {},
   "source": [
    "## Normal Distribution"
   ]
  },
  {
   "cell_type": "code",
   "execution_count": 22,
   "metadata": {},
   "outputs": [
    {
     "name": "stdout",
     "output_type": "stream",
     "text": [
      "0.4012936743170763\n",
      "0.401\n"
     ]
    }
   ],
   "source": [
    "import math\n",
    "def normal_prob(miu,stdev,x):\n",
    "    return 0.5 * (1+math.erf((x-miu)/(stdev*2**0.5)))\n",
    "miu=20\n",
    "stdev=2\n",
    "print(normal_prob(miu,stdev,19.5))\n",
    "print('%.3f' %normal_prob(miu, stdev, 19.5) )"
   ]
  },
  {
   "cell_type": "code",
   "execution_count": 23,
   "metadata": {},
   "outputs": [
    {
     "name": "stdout",
     "output_type": "stream",
     "text": [
      "0.3413447460685428\n",
      "0.341\n"
     ]
    }
   ],
   "source": [
    "print(normal_prob(miu,stdev,22)-normal_prob(miu,stdev,20))\n",
    "print( '%.3f' %(normal_prob(miu, stdev, 22) - normal_prob(miu, stdev, 20)) )#3 decimels"
   ]
  },
  {
   "cell_type": "markdown",
   "metadata": {},
   "source": [
    "## One Sample T Test"
   ]
  },
  {
   "cell_type": "code",
   "execution_count": 25,
   "metadata": {},
   "outputs": [],
   "source": [
    "import numpy as np\n",
    "sample_mean= 5\n",
    "population_mean = 4\n",
    "sample_size= 40\n",
    "degree_of_freedom=40-1\n",
    "standard_dev=0.22"
   ]
  },
  {
   "cell_type": "code",
   "execution_count": 26,
   "metadata": {},
   "outputs": [
    {
     "name": "stdout",
     "output_type": "stream",
     "text": [
      "T test value is; 28.75\n"
     ]
    }
   ],
   "source": [
    "Ttest=(sample_mean-population_mean)/(standard_dev/np.sqrt(sample_size))\n",
    "print('T test value is;',(round(Ttest,2)))"
   ]
  },
  {
   "cell_type": "code",
   "execution_count": 31,
   "metadata": {},
   "outputs": [
    {
     "name": "stdout",
     "output_type": "stream",
     "text": [
      "p is : 1.0\n",
      "pvalue is : 4.166931855486916e-20\n",
      "The mean of espresso in latte is significantly different from population Mean (Reject H0) \n"
     ]
    }
   ],
   "source": [
    "#Calculation P-Value\n",
    "#We will use scipy stats function to calculate p value as show below\n",
    "import scipy.stats as stats\n",
    "p=stats.t.cdf(Ttest,df=39)\n",
    "pvalue=stats.t.sf(np.abs(Ttest),24)*2\n",
    "print('p is :',p)\n",
    "print('pvalue is :',pvalue)\n",
    "#Since we are doing 2 sided test to find p value\n",
    "pval=(1-p)*2\n",
    "if pvalue>0.5:\n",
    "    print(\"The mean of espresso in latte is not different from population Mean (Fail To Reject H0)\")\n",
    "else:\n",
    "    print('The mean of espresso in latte is significantly different from population Mean (Reject H0) ')"
   ]
  },
  {
   "cell_type": "code",
   "execution_count": null,
   "metadata": {},
   "outputs": [],
   "source": []
  },
  {
   "cell_type": "code",
   "execution_count": null,
   "metadata": {},
   "outputs": [],
   "source": []
  }
 ],
 "metadata": {
  "kernelspec": {
   "display_name": "Python 3",
   "language": "python",
   "name": "python3"
  },
  "language_info": {
   "codemirror_mode": {
    "name": "ipython",
    "version": 3
   },
   "file_extension": ".py",
   "mimetype": "text/x-python",
   "name": "python",
   "nbconvert_exporter": "python",
   "pygments_lexer": "ipython3",
   "version": "3.7.0"
  }
 },
 "nbformat": 4,
 "nbformat_minor": 2
}
